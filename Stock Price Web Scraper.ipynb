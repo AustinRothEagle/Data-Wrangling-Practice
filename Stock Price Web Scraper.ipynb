{
 "cells": [
  {
   "cell_type": "code",
   "execution_count": 1,
   "id": "5ea1ecc8",
   "metadata": {},
   "outputs": [],
   "source": [
    "import requests \n",
    "from bs4 import BeautifulSoup \n",
    "import json"
   ]
  },
  {
   "cell_type": "code",
   "execution_count": 2,
   "id": "4d38a226",
   "metadata": {},
   "outputs": [],
   "source": [
    "faangstocks = ['META', 'AMZN', 'AAPL', 'NFLX']\n",
    "stockdata = []"
   ]
  },
  {
   "cell_type": "code",
   "execution_count": 3,
   "id": "fff70680",
   "metadata": {},
   "outputs": [],
   "source": [
    "def getData(symbol):\n",
    "    headers={'User-Agent': 'Mozilla/5.0 (Macintosh; Intel Mac OS X 10_15_7) AppleWebKit/537.36 (KHTML, like Gecko) Chrome/108.0.0.0 Safari/537.36'}\n",
    "    url = f'https://finance.yahoo.com/quote/{symbol}'\n",
    "    r = requests.get(url, headers=headers)\n",
    "    soup = BeautifulSoup(r.text, 'html.parser')\n",
    "    stock = {\n",
    "    'symbol': symbol,\n",
    "    'price': \"$\" + soup.find('div', {'class': 'D(ib) Mend(20px)'}).find_all('fin-streamer')[0].text,\n",
    "    'change': soup.find('div', {'class': 'D(ib) Mend(20px)'}).find_all('fin-streamer')[1].text,\n",
    "    }\n",
    "    return stock"
   ]
  },
  {
   "cell_type": "code",
   "execution_count": 4,
   "id": "ca15fb5f",
   "metadata": {},
   "outputs": [
    {
     "name": "stdout",
     "output_type": "stream",
     "text": [
      "Getting:  META\n",
      "Getting:  AMZN\n",
      "Getting:  AAPL\n",
      "Getting:  NFLX\n",
      "[{'symbol': 'META', 'price': '$172.88', 'change': '+0.44'}, {'symbol': 'AMZN', 'price': '$97.20', 'change': '-0.95'}, {'symbol': 'AAPL', 'price': '$152.55', 'change': '-1.16'}, {'symbol': 'NFLX', 'price': '$347.96', 'change': '-2.75'}]\n"
     ]
    }
   ],
   "source": [
    "for item in faangstocks:\n",
    "    stockdata.append(getData(item))\n",
    "    print(\"Getting: \", item)\n",
    "print(stockdata)"
   ]
  },
  {
   "cell_type": "code",
   "execution_count": 5,
   "id": "e63ed98b",
   "metadata": {},
   "outputs": [],
   "source": [
    "import pandas as pd\n",
    "df_stockdata = pd.DataFrame(stockdata)"
   ]
  },
  {
   "cell_type": "code",
   "execution_count": 6,
   "id": "39709337",
   "metadata": {},
   "outputs": [],
   "source": [
    "df_stockdata.to_csv(\"FAANG_stock_prices.csv\", index=False)"
   ]
  }
 ],
 "metadata": {
  "kernelspec": {
   "display_name": "Python 3 (ipykernel)",
   "language": "python",
   "name": "python3"
  },
  "language_info": {
   "codemirror_mode": {
    "name": "ipython",
    "version": 3
   },
   "file_extension": ".py",
   "mimetype": "text/x-python",
   "name": "python",
   "nbconvert_exporter": "python",
   "pygments_lexer": "ipython3",
   "version": "3.9.13"
  }
 },
 "nbformat": 4,
 "nbformat_minor": 5
}
